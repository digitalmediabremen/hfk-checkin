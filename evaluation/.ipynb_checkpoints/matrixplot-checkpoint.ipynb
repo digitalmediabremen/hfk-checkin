{
 "cells": [
  {
   "cell_type": "code",
   "execution_count": null,
   "id": "6d6fd320-17d4-4df3-bda6-647bb1d06377",
   "metadata": {},
   "outputs": [],
   "source": [
    "import pandas as pd\n",
    "import numpy as np\n",
    "import matplotlib.pyplot as plt\n",
    "import seaborn as sns\n",
    "import matplotlib.dates as mdates;\n",
    "\n",
    "def combine_values(x):\n",
    "    even = x.slot.timetuple().tm_yday % 2 == 0\n",
    "    if x.has_checkin == 0 and x.has_reservation == 0 and even: return 1; # vacant\n",
    "    if x.has_checkin == 0 and x.has_reservation == 0: return 0; # vacant\n",
    "    if x.has_checkin == 0 and x.has_reservation > 0: return 2; # blocked\n",
    "    if x.has_checkin > 0 and even: return 3; # in use\n",
    "    return 3\n",
    "    \n",
    "    \n",
    "\n",
    "\n",
    "df = pd.read_csv('data/de.csv') \n",
    "df['slot'] = pd.to_datetime(df['slot'], format='%Y-%m-%d %H:%M:%S', errors='raise')\n",
    "# filter slots from 9 - 23\n",
    "df = df[(df['slot'].dt.hour < 24) & (df['slot'].dt.hour >= 8)]\n",
    "df['value'] = df.apply(combine_values, axis = 1)\n",
    "pivot = df.pivot_table(index=df['slot'],columns=df['n'],values=['value'],aggfunc='sum',fill_value=0)\n",
    "# pivot = pivot.iloc[:30,:10]\n",
    "# print (pivot.shape)\n",
    "# fig,ax=plt.subplots(figsize=(50,10))\n",
    "fig,ax=plt.subplots(figsize=(100 * 0.66,45))\n",
    "\n",
    "pivot.columns = [col[1] for col in pivot.columns.values]\n",
    "\n",
    "#cbar\n",
    "vmap = [\"Keine Aktivität\", \"Min. 1 Buchung\", \"Min. 1 Checkin\", \"Min. 1 Checkin & min. 1 Buchung\", \"Keine Aktivität\"]\n",
    "cbar_kws=dict(use_gridspec=False,location=\"right\",pad=0.04,shrink=0.125)\n",
    "\n",
    "ax = sns.heatmap(pivot.T, xticklabels=1, cmap=[\"orange\", \"darkorange\", \"red\", \"gainsboro\"], cbar=False,fmt=\"d\", linewidths=2,square=True,linecolor=\"white\")\n",
    "\n",
    "# colorbar labels\n",
    "# n = len(vmap)\n",
    "# colorbar = ax.collections[0].colorbar\n",
    "# # The list comprehension calculates the positions to place the labels to be evenly distributed across the colorbar\n",
    "# r = colorbar.vmax - colorbar.vmin\n",
    "# colorbar.set_ticks([colorbar.vmin + 0.5 * r / (n) + r * i / (n) for i in range(n)])\n",
    "# colorbar.set_ticklabels(vmap)\n",
    "\n",
    "#graph labels\n",
    "labels = [pd.to_datetime(str(tick)) for tick in pivot.index.values]\n",
    "labels = [tick.hour == 8 and tick.strftime(\"%H:%M - %d.%m.%y\") or tick.strftime(\"%H:%M\") for tick in labels];\n",
    "ax.set_xticklabels(labels=labels)\n",
    "ax.xaxis.set_tick_params(rotation=90,labelsize='small', labelleft=True, labelright=True, bottom=False, top=False, left=False, right=False)\n",
    "ax.yaxis.set_tick_params(rotation=0,labelsize='small', labelbottom=True, labeltop=True, bottom=False, top=False, left=False, right=False)\n",
    "ax.set_ylabel('')\n",
    "ax.set_xlabel('')\n",
    "\n",
    "# ax.set_title(\"Raumaktivität Dechanatsstr.\", fontsize = 30)\n",
    "\n",
    "# plt.show()\n",
    "plt.savefig('de.png', dpi=300)"
   ]
  },
  {
   "cell_type": "code",
   "execution_count": null,
   "id": "5caa140f-bf5a-409f-989e-9038d5784f5e",
   "metadata": {},
   "outputs": [],
   "source": []
  },
  {
   "cell_type": "code",
   "execution_count": null,
   "id": "e811b210-f523-45fe-9279-1a0f9efce7f7",
   "metadata": {},
   "outputs": [],
   "source": []
  }
 ],
 "metadata": {
  "kernelspec": {
   "display_name": "Python 3 (ipykernel)",
   "language": "python",
   "name": "python3"
  },
  "language_info": {
   "codemirror_mode": {
    "name": "ipython",
    "version": 3
   },
   "file_extension": ".py",
   "mimetype": "text/x-python",
   "name": "python",
   "nbconvert_exporter": "python",
   "pygments_lexer": "ipython3",
   "version": "3.9.7"
  }
 },
 "nbformat": 4,
 "nbformat_minor": 5
}
