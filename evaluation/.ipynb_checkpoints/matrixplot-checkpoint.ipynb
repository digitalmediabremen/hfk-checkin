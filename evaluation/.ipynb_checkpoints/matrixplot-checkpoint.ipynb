{
 "cells": [
  {
   "cell_type": "code",
   "execution_count": null,
   "id": "6d6fd320-17d4-4df3-bda6-647bb1d06377",
   "metadata": {},
   "outputs": [
    {
     "name": "stdout",
     "output_type": "stream",
     "text": [
      "(348, 100)\n",
      "348\n"
     ]
    }
   ],
   "source": [
    "import pandas as pd\n",
    "import numpy as np\n",
    "import matplotlib.pyplot as plt\n",
    "import seaborn as sns\n",
    "import matplotlib.dates as mdates;\n",
    "\n",
    "def combine_values(x):\n",
    "    if x.has_checkin > 0 and x.has_reservation > 0: return 3\n",
    "    if x.has_checkin > 0: return 2;\n",
    "    if x.has_reservation > 0: return 1;\n",
    "\n",
    "    if x.slot.timetuple().tm_yday % 2 == 0: return 4\n",
    "    return 0;\n",
    "    \n",
    "    \n",
    "\n",
    "\n",
    "df = pd.read_csv('data/xi_reservable.csv') \n",
    "df['slot'] = pd.to_datetime(df['slot'], format='%Y-%m-%d %H:%M:%S', errors='raise')\n",
    "\n",
    "df['value'] = df.apply(combine_values, axis = 1)\n",
    "pivot = df.pivot_table(index=df['slot'],columns=df['n'],values=['value'],aggfunc='sum',fill_value=0)\n",
    "# pivot = pivot.iloc[:30,:10]\n",
    "print (pivot.shape)\n",
    "# fig,ax=plt.subplots(figsize=(50,10))\n",
    "fig,ax=plt.subplots(figsize=(100,45))\n",
    "ax.set_facecolor(\"yellow\")\n",
    "\n",
    "pivot.columns = [col[1] for col in pivot.columns.values]\n",
    "\n",
    "ax = sns.heatmap(pivot.T, xticklabels=1, cmap=[\"white\", \"blue\", \"red\", \"magenta\", \"whitesmoke\"],fmt=\"d\", linewidths=2,square=True,linecolor=\"gainsboro\",cbar=False)\n",
    "labels = [pd.to_datetime(str(tick)) for tick in pivot.index.values]\n",
    "labels = [tick.hour == 0 and tick.strftime(\"%d.%m.%y\") or tick.strftime(\"%H:%M\") for tick in labels];\n",
    "print(len(labels))\n",
    "ax.set_xticklabels(labels=labels)\n",
    "ax.xaxis.set_tick_params(rotation=90,labelsize='small', labelleft=True, labelright=True, bottom=False, top=False, left=False, right=False)\n",
    "ax.yaxis.set_tick_params(rotation=0,labelsize='small', labelbottom=True, labeltop=True, bottom=False, top=False, left=False, right=False)\n",
    "# ax.xticks(rotation=0, ha='center')\n",
    "\n",
    "# fig.autofmt_xdate()\n",
    "# plt.show()\n",
    "plt.savefig('xi.png',facecolor=\"gainsboro\", dpi=150)"
   ]
  },
  {
   "cell_type": "code",
   "execution_count": null,
   "id": "5caa140f-bf5a-409f-989e-9038d5784f5e",
   "metadata": {},
   "outputs": [],
   "source": []
  },
  {
   "cell_type": "code",
   "execution_count": null,
   "id": "e811b210-f523-45fe-9279-1a0f9efce7f7",
   "metadata": {},
   "outputs": [],
   "source": []
  }
 ],
 "metadata": {
  "kernelspec": {
   "display_name": "Python 3 (ipykernel)",
   "language": "python",
   "name": "python3"
  },
  "language_info": {
   "codemirror_mode": {
    "name": "ipython",
    "version": 3
   },
   "file_extension": ".py",
   "mimetype": "text/x-python",
   "name": "python",
   "nbconvert_exporter": "python",
   "pygments_lexer": "ipython3",
   "version": "3.9.7"
  }
 },
 "nbformat": 4,
 "nbformat_minor": 5
}
